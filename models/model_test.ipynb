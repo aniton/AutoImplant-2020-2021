{
 "cells": [
  {
   "cell_type": "code",
   "execution_count": 1,
   "id": "breeding-worst",
   "metadata": {},
   "outputs": [],
   "source": [
    "import torch\n",
    "import cv2\n",
    "import k3d\n",
    "import scipy.ndimage as spi\n",
    "import nibabel as nib\n",
    "import numpy as np\n",
    "from saunet3d import SAUnet3d"
   ]
  },
  {
   "cell_type": "code",
   "execution_count": 2,
   "id": "exotic-terminology",
   "metadata": {},
   "outputs": [],
   "source": [
    "model = SAUnet3d()"
   ]
  },
  {
   "cell_type": "code",
   "execution_count": 3,
   "id": "substantial-excerpt",
   "metadata": {},
   "outputs": [],
   "source": [
    "example = nib.load('../../training_set2020/defective_skull/000.nii.gz')\n",
    "data = example.get_fdata().astype(np.int32)"
   ]
  },
  {
   "cell_type": "code",
   "execution_count": 4,
   "id": "cardiac-remains",
   "metadata": {},
   "outputs": [
    {
     "data": {
      "text/plain": [
       "(512, 512, 237)"
      ]
     },
     "execution_count": 4,
     "metadata": {},
     "output_type": "execute_result"
    }
   ],
   "source": [
    "data.shape"
   ]
  },
  {
   "cell_type": "code",
   "execution_count": 5,
   "id": "infrared-climb",
   "metadata": {},
   "outputs": [],
   "source": [
    "small = spi.zoom(data, (1/12, 1/12, 1/8))"
   ]
  },
  {
   "cell_type": "code",
   "execution_count": 6,
   "id": "hydraulic-sucking",
   "metadata": {},
   "outputs": [
    {
     "name": "stdout",
     "output_type": "stream",
     "text": [
      "(43, 43, 30)\n"
     ]
    },
    {
     "name": "stderr",
     "output_type": "stream",
     "text": [
      "/Users/aleksandr/miniconda/envs/kin/lib/python3.8/site-packages/traittypes/traittypes.py:97: UserWarning: Given trait value dtype \"int32\" does not match required type \"uint8\". A coerced copy has been created.\n",
      "  warnings.warn(\n"
     ]
    },
    {
     "data": {
      "application/vnd.jupyter.widget-view+json": {
       "model_id": "72a62bd7a14d454aa7c46de8555a896a",
       "version_major": 2,
       "version_minor": 0
      },
      "text/plain": [
       "Output()"
      ]
     },
     "metadata": {},
     "output_type": "display_data"
    }
   ],
   "source": [
    "print(small.shape)\n",
    "k3d.voxels(small)"
   ]
  },
  {
   "cell_type": "code",
   "execution_count": 7,
   "id": "varied-design",
   "metadata": {},
   "outputs": [
    {
     "data": {
      "text/plain": [
       "torch.Size([1, 1, 43, 43, 30])"
      ]
     },
     "execution_count": 7,
     "metadata": {},
     "output_type": "execute_result"
    }
   ],
   "source": [
    "small_tensor = torch.tensor(small, dtype=torch.float32)\n",
    "small_tensor = small_tensor[None, None, ...]\n",
    "small_tensor.size()"
   ]
  },
  {
   "cell_type": "code",
   "execution_count": 8,
   "id": "senior-postage",
   "metadata": {},
   "outputs": [
    {
     "data": {
      "text/plain": [
       "torch.float32"
      ]
     },
     "execution_count": 8,
     "metadata": {},
     "output_type": "execute_result"
    }
   ],
   "source": [
    "small_tensor.dtype"
   ]
  },
  {
   "cell_type": "code",
   "execution_count": 1,
   "id": "introductory-destruction",
   "metadata": {},
   "outputs": [
    {
     "ename": "NameError",
     "evalue": "name 'model' is not defined",
     "output_type": "error",
     "traceback": [
      "\u001b[0;31m---------------------------------------------------------------------------\u001b[0m",
      "\u001b[0;31mNameError\u001b[0m                                 Traceback (most recent call last)",
      "\u001b[0;32m<ipython-input-1-922852469f27>\u001b[0m in \u001b[0;36m<module>\u001b[0;34m\u001b[0m\n\u001b[0;32m----> 1\u001b[0;31m \u001b[0mres\u001b[0m \u001b[0;34m=\u001b[0m \u001b[0mmodel\u001b[0m\u001b[0;34m.\u001b[0m\u001b[0mforward\u001b[0m\u001b[0;34m(\u001b[0m\u001b[0msmall_tensor\u001b[0m\u001b[0;34m)\u001b[0m\u001b[0;34m\u001b[0m\u001b[0;34m\u001b[0m\u001b[0m\n\u001b[0m",
      "\u001b[0;31mNameError\u001b[0m: name 'model' is not defined"
     ]
    }
   ],
   "source": [
    "res = model.forward(small_tensor)"
   ]
  },
  {
   "cell_type": "code",
   "execution_count": null,
   "id": "laughing-bathroom",
   "metadata": {},
   "outputs": [],
   "source": []
  }
 ],
 "metadata": {
  "kernelspec": {
   "display_name": "Python 3",
   "language": "python",
   "name": "python3"
  },
  "language_info": {
   "codemirror_mode": {
    "name": "ipython",
    "version": 3
   },
   "file_extension": ".py",
   "mimetype": "text/x-python",
   "name": "python",
   "nbconvert_exporter": "python",
   "pygments_lexer": "ipython3",
   "version": "3.8.6"
  }
 },
 "nbformat": 4,
 "nbformat_minor": 5
}
