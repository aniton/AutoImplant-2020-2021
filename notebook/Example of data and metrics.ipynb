{
 "cells": [
  {
   "cell_type": "code",
   "execution_count": 3,
   "metadata": {},
   "outputs": [],
   "source": [
    "import k3d\n",
    "import numpy as np\n",
    "import open3d as o3d\n",
    "import nibabel as nib\n",
    "import matplotlib.pyplot as plt\n",
    "import skimage.transform as tr\n",
    "from scipy.ndimage import zoom"
   ]
  },
  {
   "cell_type": "code",
   "execution_count": 2,
   "metadata": {},
   "outputs": [
    {
     "name": "stdout",
     "output_type": "stream",
     "text": [
      "Collecting nibabel\n",
      "\u001b[?25l  Downloading https://files.pythonhosted.org/packages/42/bf/ba089fec67237f6439c345b8977ca6dde67402ada6592bf84c2c78d557ff/nibabel-3.2.1-py3-none-any.whl (3.3MB)\n",
      "\u001b[K     |████████████████████████████████| 3.3MB 410kB/s eta 0:00:01     |█████████████████▍              | 1.8MB 717kB/s eta 0:00:03\n",
      "\u001b[?25hRequirement already satisfied: numpy>=1.14 in /Users/mariadonskova/opt/anaconda3/lib/python3.7/site-packages (from nibabel) (1.18.1)\n",
      "Requirement already satisfied: packaging>=14.3 in /Users/mariadonskova/opt/anaconda3/lib/python3.7/site-packages (from nibabel) (19.2)\n",
      "Requirement already satisfied: six in /Users/mariadonskova/opt/anaconda3/lib/python3.7/site-packages (from packaging>=14.3->nibabel) (1.12.0)\n",
      "Requirement already satisfied: pyparsing>=2.0.2 in /Users/mariadonskova/opt/anaconda3/lib/python3.7/site-packages (from packaging>=14.3->nibabel) (2.4.2)\n",
      "Installing collected packages: nibabel\n",
      "Successfully installed nibabel-3.2.1\n",
      "\u001b[33mWARNING: You are using pip version 19.3.1; however, version 21.1.1 is available.\n",
      "You should consider upgrading via the 'pip install --upgrade pip' command.\u001b[0m\n",
      "Note: you may need to restart the kernel to use updated packages.\n"
     ]
    }
   ],
   "source": [
    "pip install nibabel"
   ]
  },
  {
   "cell_type": "code",
   "execution_count": 6,
   "metadata": {},
   "outputs": [],
   "source": [
    "path = 'test_set2020/011.nii.gz'\n",
    "img = nib.load(path)"
   ]
  },
  {
   "cell_type": "markdown",
   "metadata": {},
   "source": [
    "## Metrics for evaluating"
   ]
  },
  {
   "cell_type": "code",
   "execution_count": 101,
   "metadata": {},
   "outputs": [],
   "source": [
    "import numpy\n",
    "from scipy.ndimage import _ni_support\n",
    "from scipy.ndimage.morphology import distance_transform_edt, binary_erosion,\\\n",
    "    generate_binary_structure\n",
    "import nrrd\n",
    "from glob import glob\n",
    "\n",
    "\n",
    "\n",
    "def __surface_distances(result, reference, voxelspacing=None, connectivity=1):\n",
    "    \"\"\"\n",
    "    The distances between the surface voxel of binary objects in result and their\n",
    "    nearest partner surface voxel of a binary object in reference.\n",
    "    \"\"\"\n",
    "    result = numpy.atleast_1d(result.astype(numpy.bool))\n",
    "    reference = numpy.atleast_1d(reference.astype(numpy.bool))\n",
    "    if voxelspacing is not None:\n",
    "        voxelspacing = _ni_support._normalize_sequence(voxelspacing, result.ndim)\n",
    "        voxelspacing = numpy.asarray(voxelspacing, dtype=numpy.float64)\n",
    "        if not voxelspacing.flags.contiguous:\n",
    "            voxelspacing = voxelspacing.copy()\n",
    "            \n",
    "    # binary structure\n",
    "    footprint = generate_binary_structure(result.ndim, connectivity)\n",
    "    \n",
    "    # test for emptiness\n",
    "    if 0 == numpy.count_nonzero(result): \n",
    "        raise RuntimeError('The first supplied array does not contain any binary object.')\n",
    "    if 0 == numpy.count_nonzero(reference): \n",
    "        raise RuntimeError('The second supplied array does not contain any binary object.')    \n",
    "            \n",
    "    # extract only 1-pixel border line of objects\n",
    "    result_border = result ^ binary_erosion(result, structure=footprint, iterations=1)\n",
    "    reference_border = reference ^ binary_erosion(reference, structure=footprint, iterations=1)\n",
    "    \n",
    "    # compute average surface distance        \n",
    "    # Note: scipys distance transform is calculated only inside the borders of the\n",
    "    #       foreground objects, therefore the input has to be reversed\n",
    "    dt = distance_transform_edt(~reference_border, sampling=voxelspacing)\n",
    "    sds = dt[result_border]\n",
    "    \n",
    "    return sds\n",
    "\n",
    "\n",
    "\n",
    "\n",
    "def hd(result, reference, voxelspacing=None, connectivity=1):\n",
    "    \"\"\"\n",
    "    Hausdorff Distance.\n",
    "    \n",
    "    Computes the (symmetric) Hausdorff Distance (HD) between the binary objects in two\n",
    "    images. It is defined as the maximum surface distance between the objects.\n",
    "    \n",
    "    Parameters\n",
    "    ----------\n",
    "    result : array_like\n",
    "        Input data containing objects. Can be any type but will be converted\n",
    "        into binary: background where 0, object everywhere else.\n",
    "    reference : array_like\n",
    "        Input data containing objects. Can be any type but will be converted\n",
    "        into binary: background where 0, object everywhere else.\n",
    "    voxelspacing : float or sequence of floats, optional\n",
    "        The voxelspacing in a distance unit i.e. spacing of elements\n",
    "        along each dimension. If a sequence, must be of length equal to\n",
    "        the input rank; if a single number, this is used for all axes. If\n",
    "        not specified, a grid spacing of unity is implied.\n",
    "    connectivity : int\n",
    "        The neighbourhood/connectivity considered when determining the surface\n",
    "        of the binary objects. This value is passed to\n",
    "        `scipy.ndimage.morphology.generate_binary_structure` and should usually be :math:`> 1`.\n",
    "        Note that the connectivity influences the result in the case of the Hausdorff distance.\n",
    "        \n",
    "    Returns\n",
    "    -------\n",
    "    hd : float\n",
    "        The symmetric Hausdorff Distance between the object(s) in ```result``` and the\n",
    "        object(s) in ```reference```. The distance unit is the same as for the spacing of \n",
    "        elements along each dimension, which is usually given in mm.\n",
    "        \n",
    "    See also\n",
    "    --------\n",
    "    :func:`assd`\n",
    "    :func:`asd`\n",
    "    \n",
    "    Notes\n",
    "    -----\n",
    "    This is a real metric. The binary images can therefore be supplied in any order.\n",
    "    \"\"\"\n",
    "    hd1 = __surface_distances(result, reference, voxelspacing, connectivity).max()\n",
    "    hd2 = __surface_distances(reference, result, voxelspacing, connectivity).max()\n",
    "    hd = max(hd1, hd2)\n",
    "    return hd\n",
    "\n",
    "\n",
    "def hd95(result, reference, voxelspacing=None, connectivity=1):\n",
    "    \"\"\"\n",
    "    95th percentile of the Hausdorff Distance.\n",
    "    Computes the 95th percentile of the (symmetric) Hausdorff Distance (HD) between the binary objects in two\n",
    "    images. Compared to the Hausdorff Distance, this metric is slightly more stable to small outliers and is\n",
    "    commonly used in Biomedical Segmentation challenges.\n",
    "    Parameters\n",
    "    ----------\n",
    "    result : array_like\n",
    "        Input data containing objects. Can be any type but will be converted\n",
    "        into binary: background where 0, object everywhere else.\n",
    "    reference : array_like\n",
    "        Input data containing objects. Can be any type but will be converted\n",
    "        into binary: background where 0, object everywhere else.\n",
    "    voxelspacing : float or sequence of floats, optional\n",
    "        The voxelspacing in a distance unit i.e. spacing of elements\n",
    "        along each dimension. If a sequence, must be of length equal to\n",
    "        the input rank; if a single number, this is used for all axes. If\n",
    "        not specified, a grid spacing of unity is implied.\n",
    "    connectivity : int\n",
    "        The neighbourhood/connectivity considered when determining the surface\n",
    "        of the binary objects. This value is passed to\n",
    "        `scipy.ndimage.morphology.generate_binary_structure` and should usually be :math:`> 1`.\n",
    "        Note that the connectivity influences the result in the case of the Hausdorff distance.\n",
    "    Returns\n",
    "    -------\n",
    "    hd : float\n",
    "        The symmetric Hausdorff Distance between the object(s) in ```result``` and the\n",
    "        object(s) in ```reference```. The distance unit is the same as for the spacing of\n",
    "        elements along each dimension, which is usually given in mm.\n",
    "    See also\n",
    "    --------\n",
    "    :func:`hd`\n",
    "    Notes\n",
    "    -----\n",
    "    This is a real metric. The binary images can therefore be supplied in any order.\n",
    "    \"\"\"\n",
    "    hd1 = __surface_distances(result, reference, voxelspacing, connectivity)\n",
    "    hd2 = __surface_distances(reference, result, voxelspacing, connectivity)\n",
    "    hd95 = numpy.percentile(numpy.hstack((hd1, hd2)), 95)\n",
    "    return hd95\n",
    "\n",
    "\n",
    "def dc(input1, input2):\n",
    "\n",
    "    \"\"\"\n",
    "    Dice coefficient\n",
    "    \n",
    "    Computes the Dice coefficient (also known as Sorensen index) between the binary\n",
    "    objects in two images.\n",
    "    \n",
    "    The metric is defined as\n",
    "        \n",
    "    , where :math:`A` is the first and :math:`B` the second set of samples (here: binary objects).\n",
    "    \n",
    "    Parameters\n",
    "    ----------\n",
    "    input1 : array_like\n",
    "        Input data containing objects. Can be any type but will be converted\n",
    "        into binary: background where 0, object everywhere else.\n",
    "    input2 : array_like\n",
    "        Input data containing objects. Can be any type but will be converted\n",
    "        into binary: background where 0, object everywhere else.\n",
    "    \n",
    "    Returns\n",
    "    -------\n",
    "    dc : float\n",
    "        The Dice coefficient between the object(s) in ```input1``` and the\n",
    "        object(s) in ```input2```. It ranges from 0 (no overlap) to 1 (perfect overlap).\n",
    "        \n",
    "    Notes\n",
    "    -----\n",
    "    This is a real metric.\n",
    "    \"\"\"\n",
    "    input1 = numpy.atleast_1d(input1.astype(numpy.bool))\n",
    "    input2 = numpy.atleast_1d(input2.astype(numpy.bool))\n",
    "    \n",
    "    intersection = numpy.count_nonzero(input1 & input2)\n",
    "    \n",
    "    size_i1 = numpy.count_nonzero(input1)\n",
    "    size_i2 = numpy.count_nonzero(input2)\n",
    "    \n",
    "    try:\n",
    "        dc = 2. * intersection / float(size_i1 + size_i2)\n",
    "    except ZeroDivisionError:\n",
    "        dc = 0.0\n",
    "    \n",
    "    return dc\n",
    "\n",
    "\n",
    "def bdc(implant_1, implant_2, defective_skull, voxelspacing=None, distance=10):\n",
    "\n",
    "    \"\"\"\n",
    "    Border Dice coefficient\n",
    "    Measures how well a predicted implant fits around border of defective skull by computing the Dice coefficient\n",
    "    between predicted and ground-truth implant only for voxels close to the defective skull.\n",
    "    Parameters\n",
    "    ----------\n",
    "    implant_1 : array_like\n",
    "        Input data containing objects. Can be any type but will be converted\n",
    "        into binary: background where 0, object everywhere else.\n",
    "    implant_2 : array_like\n",
    "        Input data containing objects. Can be any type but will be converted\n",
    "        into binary: background where 0, object everywhere else.\n",
    "    defective_skull : array_like\n",
    "        Input data containing objects. Can be any type but will be converted\n",
    "        into binary: background where 0, object everywhere else.\n",
    "    voxelspacing : float or sequence of floats, optional\n",
    "        The voxelspacing in a distance unit i.e. spacing of elements\n",
    "        along each dimension. If a sequence, must be of length equal to\n",
    "        the input rank; if a single number, this is used for all axes. If\n",
    "        not specified, a grid spacing of unity is implied.\n",
    "    distance : integer\n",
    "        Distance in milimeters at which voxels are considered to be \"border\".\n",
    "    Returns\n",
    "    -------\n",
    "    dc : float\n",
    "        The Dice coefficient between the border of ```implant_1``` and the border\n",
    "        of ```implant_2```. It ranges from 0 (no overlap) to 1 (perfect overlap).\n",
    "    \"\"\"\n",
    "\n",
    "    dt = distance_transform_edt(~(defective_skull > 0), sampling=voxelspacing)\n",
    "\n",
    "    implant_1_masked = implant_1.copy()\n",
    "    implant_2_masked = implant_2.copy()\n",
    "\n",
    "    implant_1_masked[dt > distance] = 0\n",
    "    implant_2_masked[dt > distance] = 0\n",
    "\n",
    "    return dc(implant_1_masked, implant_2_masked)\n",
    "\n",
    "\n",
    "#if __name__ == \"__main__\":\n",
    "    # Prediction folder (.nrrd)\n",
    "#    pred_dir='../prediction'\n",
    "    # Ground truth folder (.nnrd)\n",
    "#    gt_dir=\"../groundtruth\"\n",
    "#    pred_list=glob('{}/*.nrrd'.format(pred_dir))\n",
    "#    gt_list=glob('{}/*.nrrd'.format(gt_dir))\n",
    "\n",
    "#    for i in range(len(pred_list)):\n",
    "#        pred,hp=nrrd.read(pred_list[i])\n",
    "#        gt,hg=nrrd.read(gt_list[i])\n",
    "        # hausdorff distance\n",
    "#        hdorff=hd(pred,gt)\n",
    "        # dsc\n",
    "#        dsc=dc(pred,gt)"
   ]
  },
  {
   "cell_type": "code",
   "execution_count": 221,
   "metadata": {},
   "outputs": [],
   "source": [
    "number_ = 112\n",
    "\n",
    "path_predictions = 'test_predictions/' + str(number_) + '.npy.gz'\n",
    "path_groundtruth = 'trainset2021/complete_skull/' + str(number_) + '.nii.gz'\n",
    "path_defective = 'trainset2021/defective_skull/bilateral/' + str(number_) + '.nii.gz'\n",
    "path_implant = 'trainset2021/implant/bilateral/' + str(number_) + '.nrrd'"
   ]
  },
  {
   "cell_type": "code",
   "execution_count": 223,
   "metadata": {},
   "outputs": [],
   "source": [
    "import gzip\n",
    "\n",
    "f = gzip.GzipFile(path_predictions, \"r\")\n",
    "prediction_ = np.load(f)[0, ...]\n",
    "\n",
    "defective_ = nib.load(path_defective)\n",
    "groundtruth = nib.load(path_groundtruth)"
   ]
  },
  {
   "cell_type": "code",
   "execution_count": 224,
   "metadata": {},
   "outputs": [],
   "source": [
    "implant_, _ = nrrd.read(path_implant)"
   ]
  },
  {
   "cell_type": "code",
   "execution_count": 225,
   "metadata": {},
   "outputs": [
    {
     "name": "stdout",
     "output_type": "stream",
     "text": [
      "(64, 64, 64)\n",
      "(512, 512, 512)\n",
      "(512, 512, 512)\n",
      "(512, 512, 512)\n"
     ]
    }
   ],
   "source": [
    "print(prediction_.shape)\n",
    "print(groundtruth_.shape)\n",
    "print(defective_.shape)\n",
    "print(implant_.shape)\n",
    "#print(groundtruth_.header.get_data_shape())"
   ]
  },
  {
   "cell_type": "code",
   "execution_count": 226,
   "metadata": {},
   "outputs": [],
   "source": [
    "from skimage.transform import rescale, resize, downscale_local_mean"
   ]
  },
  {
   "cell_type": "code",
   "execution_count": 232,
   "metadata": {},
   "outputs": [],
   "source": [
    "#groundtruth = groundtruth_.get_fdata().astype(np.int32)\n",
    "factor_ = int(groundtruth_.shape[0] / prediction_.shape[0])\n",
    "image_downscaled = downscale_local_mean(groundtruth_, (factor_, factor_, factor_))"
   ]
  },
  {
   "cell_type": "code",
   "execution_count": 237,
   "metadata": {},
   "outputs": [],
   "source": [
    "defective = defective_.get_fdata().astype(np.int32)\n",
    "factor_ = int(defective_.header.get_data_shape()[0] / prediction_.shape[0])\n",
    "image_defective_ = downscale_local_mean(defective, (factor_, factor_, factor_))"
   ]
  },
  {
   "cell_type": "code",
   "execution_count": 238,
   "metadata": {},
   "outputs": [],
   "source": [
    "factor_ = int(implant_.shape[0] / prediction_.shape[0])\n",
    "image_implant_ = downscale_local_mean(implant_, (factor_, factor_, factor_))"
   ]
  },
  {
   "cell_type": "code",
   "execution_count": 239,
   "metadata": {},
   "outputs": [],
   "source": [
    "assert image_downscaled.shape == prediction_.shape, 'Shapes are not equal'\n",
    "assert image_defective_.shape == prediction_.shape, 'Shapes are not equal'\n",
    "assert image_implant_.shape == prediction_.shape, 'Shapes are not equal'"
   ]
  },
  {
   "cell_type": "code",
   "execution_count": 240,
   "metadata": {},
   "outputs": [
    {
     "data": {
      "text/plain": [
       "<matplotlib.image.AxesImage at 0x7fba0b366c90>"
      ]
     },
     "execution_count": 240,
     "metadata": {},
     "output_type": "execute_result"
    },
    {
     "data": {
      "image/png": "[encoded data removed]",
      "text/plain": [
       "<Figure size 1080x720 with 4 Axes>"
      ]
     },
     "metadata": {
      "needs_background": "light"
     },
     "output_type": "display_data"
    }
   ],
   "source": [
    "fig, (ax1, ax2, ax3, ax4) = plt.subplots(1, 4, figsize=(15, 10))\n",
    "#fig.suptitle('Horizontally stacked subplots')\n",
    "\n",
    "ax1.set_title('Origin image')\n",
    "ax1.imshow(image_downscaled[..., 1])\n",
    "\n",
    "ax2.set_title('Prediction image')\n",
    "ax2.imshow(prediction_[..., 1])\n",
    "\n",
    "ax3.set_title('Defective image')\n",
    "ax3.imshow(image_defective_[..., 1])\n",
    "\n",
    "ax4.set_title('Implant image')\n",
    "ax4.imshow(image_implant_[..., 1])"
   ]
  },
  {
   "cell_type": "code",
   "execution_count": 241,
   "metadata": {},
   "outputs": [],
   "source": [
    "result_hd = hd(image_downscaled, prediction_ > 0.5)"
   ]
  },
  {
   "cell_type": "code",
   "execution_count": 242,
   "metadata": {},
   "outputs": [
    {
     "data": {
      "text/plain": [
       "3.605551275463989"
      ]
     },
     "execution_count": 242,
     "metadata": {},
     "output_type": "execute_result"
    }
   ],
   "source": [
    "result_hd"
   ]
  },
  {
   "cell_type": "code",
   "execution_count": 243,
   "metadata": {},
   "outputs": [],
   "source": [
    "result_dc = dc(prediction_ > 0.5, image_downscaled)"
   ]
  },
  {
   "cell_type": "code",
   "execution_count": 244,
   "metadata": {},
   "outputs": [
    {
     "data": {
      "text/plain": [
       "0.7778806840000904"
      ]
     },
     "execution_count": 244,
     "metadata": {},
     "output_type": "execute_result"
    }
   ],
   "source": [
    "result_dc"
   ]
  },
  {
   "cell_type": "code",
   "execution_count": 245,
   "metadata": {},
   "outputs": [],
   "source": [
    "result_bdc = bdc(image_downscaled, prediction_ > 0.5, image_implant_)"
   ]
  },
  {
   "cell_type": "code",
   "execution_count": 246,
   "metadata": {},
   "outputs": [
    {
     "data": {
      "text/plain": [
       "0.7486102027468934"
      ]
     },
     "execution_count": 246,
     "metadata": {},
     "output_type": "execute_result"
    }
   ],
   "source": [
    "result_bdc"
   ]
  },
  {
   "cell_type": "code",
   "execution_count": 250,
   "metadata": {},
   "outputs": [],
   "source": [
    "result_bdc = bdc(prediction_ > 0.5, image_downscaled, image_downscaled - image_defective_)"
   ]
  },
  {
   "cell_type": "code",
   "execution_count": 251,
   "metadata": {},
   "outputs": [
    {
     "data": {
      "text/plain": [
       "0.7486102027468934"
      ]
     },
     "execution_count": 251,
     "metadata": {},
     "output_type": "execute_result"
    }
   ],
   "source": [
    "result_bdc"
   ]
  },
  {
   "cell_type": "code",
   "execution_count": 89,
   "metadata": {},
   "outputs": [
    {
     "data": {
      "text/plain": [
       "<matplotlib.image.AxesImage at 0x7fbbbdf33450>"
      ]
     },
     "execution_count": 89,
     "metadata": {},
     "output_type": "execute_result"
    },
    {
     "data": {
      "image/png": "[encoded data removed]",
      "text/plain": [
       "<Figure size 432x288 with 1 Axes>"
      ]
     },
     "metadata": {
      "needs_background": "light"
     },
     "output_type": "display_data"
    }
   ],
   "source": [
    "plt.imshow(prediction_[..., 1])"
   ]
  },
  {
   "cell_type": "code",
   "execution_count": 60,
   "metadata": {},
   "outputs": [],
   "source": [
    "def bunarization(img):\n",
    "    out = img.copy()\n",
    "    for i in range(img.shape[-1]):\n",
    "        out[..., i] = img[..., i] > 0.5\n",
    "    return out"
   ]
  },
  {
   "cell_type": "code",
   "execution_count": 62,
   "metadata": {},
   "outputs": [],
   "source": [
    "out_ex = bunarization(exmpl).astype(np.int32)"
   ]
  },
  {
   "cell_type": "code",
   "execution_count": 63,
   "metadata": {},
   "outputs": [
    {
     "data": {
      "application/vnd.jupyter.widget-view+json": {
       "model_id": "d00948f5030344ba91c463f2494ee029",
       "version_major": 2,
       "version_minor": 0
      },
      "text/plain": [
       "Output()"
      ]
     },
     "metadata": {},
     "output_type": "display_data"
    }
   ],
   "source": [
    "k3d.voxels(out_ex)"
   ]
  },
  {
   "cell_type": "markdown",
   "metadata": {},
   "source": [
    "## End metrics evaluating"
   ]
  },
  {
   "cell_type": "code",
   "execution_count": 7,
   "metadata": {},
   "outputs": [
    {
     "name": "stdout",
     "output_type": "stream",
     "text": [
      "(512, 512, 331)\n",
      "int32\n",
      "(0.416016, 0.416016, 0.5) in mm\n"
     ]
    }
   ],
   "source": [
    "print(img.header.get_data_shape())\n",
    "print(img.header.get_data_dtype())\n",
    "print(f'{img.header.get_zooms()} in mm')"
   ]
  },
  {
   "cell_type": "code",
   "execution_count": 8,
   "metadata": {},
   "outputs": [
    {
     "name": "stdout",
     "output_type": "stream",
     "text": [
      "<class 'nibabel.nifti1.Nifti1Header'> object, endian='<'\n",
      "sizeof_hdr      : 348\n",
      "data_type       : b''\n",
      "db_name         : b''\n",
      "extents         : 0\n",
      "session_error   : 0\n",
      "regular         : b'r'\n",
      "dim_info        : 0\n",
      "dim             : [  3 512 512 331   1   1   1   1]\n",
      "intent_p1       : 0.0\n",
      "intent_p2       : 0.0\n",
      "intent_p3       : 0.0\n",
      "intent_code     : none\n",
      "datatype        : int32\n",
      "bitpix          : 32\n",
      "slice_start     : 0\n",
      "pixdim          : [1.       0.416016 0.416016 0.5      0.       0.       0.       0.      ]\n",
      "vox_offset      : 0.0\n",
      "scl_slope       : nan\n",
      "scl_inter       : nan\n",
      "slice_end       : 0\n",
      "slice_code      : unknown\n",
      "xyzt_units      : 2\n",
      "cal_max         : 0.0\n",
      "cal_min         : 0.0\n",
      "slice_duration  : 0.0\n",
      "toffset         : 0.0\n",
      "glmax           : 0\n",
      "glmin           : 0\n",
      "descrip         : b''\n",
      "aux_file        : b''\n",
      "qform_code      : scanner\n",
      "sform_code      : unknown\n",
      "quatern_b       : 0.0\n",
      "quatern_c       : 0.0\n",
      "quatern_d       : 1.0\n",
      "qoffset_x       : 106.5\n",
      "qoffset_y       : 148.1\n",
      "qoffset_z       : -438.6\n",
      "srow_x          : [0. 0. 0. 0.]\n",
      "srow_y          : [0. 0. 0. 0.]\n",
      "srow_z          : [0. 0. 0. 0.]\n",
      "intent_name     : b''\n",
      "magic           : b'n+1'\n"
     ]
    }
   ],
   "source": [
    "print(img.header)"
   ]
  },
  {
   "cell_type": "code",
   "execution_count": 52,
   "metadata": {},
   "outputs": [],
   "source": [
    "data = img.get_fdata().astype(np.int32)"
   ]
  },
  {
   "cell_type": "code",
   "execution_count": 57,
   "metadata": {},
   "outputs": [
    {
     "data": {
      "text/plain": [
       "array([0, 1], dtype=int32)"
      ]
     },
     "execution_count": 57,
     "metadata": {},
     "output_type": "execute_result"
    }
   ],
   "source": [
    "np.unique(data[..., 0])"
   ]
  },
  {
   "cell_type": "code",
   "execution_count": 55,
   "metadata": {},
   "outputs": [
    {
     "data": {
      "text/plain": [
       "<matplotlib.image.AxesImage at 0x7fbba8d4d350>"
      ]
     },
     "execution_count": 55,
     "metadata": {},
     "output_type": "execute_result"
    },
    {
     "data": {
      "image/png": "[encoded data removed]",
      "text/plain": [
       "<Figure size 432x288 with 1 Axes>"
      ]
     },
     "metadata": {
      "needs_background": "light"
     },
     "output_type": "display_data"
    }
   ],
   "source": [
    "plt.imshow(data[..., 0])"
   ]
  },
  {
   "cell_type": "code",
   "execution_count": 10,
   "metadata": {},
   "outputs": [
    {
     "name": "stderr",
     "output_type": "stream",
     "text": [
      "/Users/mariadonskova/opt/anaconda3/lib/python3.7/site-packages/traittypes/traittypes.py:101: UserWarning: Given trait value dtype \"int32\" does not match required type \"uint8\". A coerced copy has been created.\n",
      "  np.dtype(self.dtype).name))\n"
     ]
    },
    {
     "data": {
      "application/vnd.jupyter.widget-view+json": {
       "model_id": "5964061fe453427790747280605233d6",
       "version_major": 2,
       "version_minor": 0
      },
      "text/plain": [
       "Output()"
      ]
     },
     "metadata": {},
     "output_type": "display_data"
    }
   ],
   "source": [
    "k3d.voxels(data)"
   ]
  },
  {
   "cell_type": "code",
   "execution_count": 11,
   "metadata": {},
   "outputs": [],
   "source": [
    "def voxel2pcd(grid, vox_size):\n",
    "    if type(vox_size) is float:\n",
    "        vox_size = [vox_size] * 3\n",
    "    elif type(vox_size) in (list, tuple):\n",
    "        pass\n",
    "    else:\n",
    "        raise ValueError(f'Wrong vox_size {vox_size}')\n",
    "        \n",
    "    assert len(grid.shape) == 3\n",
    "    x, y, z = grid.shape\n",
    "    dx, dy, dz = vox_size\n",
    "    n_occupated = np.sum(grid)\n",
    "    pcd = np.empty((n_occupated, 3), dtype=np.float32)\n",
    "    cnt = 0\n",
    "    for idx, occupated in np.ndenumerate(grid):\n",
    "        if not occupated:\n",
    "            continue\n",
    "        i, j, k = idx\n",
    "        pcd[cnt] = [i*dx, j*dy, k*dz]\n",
    "        cnt += 1\n",
    "    return pcd"
   ]
  },
  {
   "cell_type": "code",
   "execution_count": 12,
   "metadata": {},
   "outputs": [],
   "source": [
    "pcd = voxel2pcd(data, img.header.get_zooms())"
   ]
  },
  {
   "cell_type": "code",
   "execution_count": 13,
   "metadata": {},
   "outputs": [
    {
     "data": {
      "text/plain": [
       "(3,)"
      ]
     },
     "execution_count": 13,
     "metadata": {},
     "output_type": "execute_result"
    }
   ],
   "source": [
    "mean = pcd.mean(axis=0)\n",
    "mean.shape"
   ]
  },
  {
   "cell_type": "code",
   "execution_count": 14,
   "metadata": {},
   "outputs": [],
   "source": [
    "k3d_mean = k3d.points(mean, color=0xff0000, point_size=3)\n",
    "k3d_pcd = k3d.points(pcd, color=0xff, point_size=0.1)"
   ]
  },
  {
   "cell_type": "code",
   "execution_count": 15,
   "metadata": {},
   "outputs": [
    {
     "data": {
      "application/vnd.jupyter.widget-view+json": {
       "model_id": "6f3d81f8fa634aac894e514e3db2849b",
       "version_major": 2,
       "version_minor": 0
      },
      "text/plain": [
       "Output()"
      ]
     },
     "metadata": {},
     "output_type": "display_data"
    }
   ],
   "source": [
    "plot = k3d.plot()\n",
    "plot += k3d_mean\n",
    "plot += k3d_pcd\n",
    "k3d_mean.shader = '3d'\n",
    "k3d_pcd.shader = '3d'\n",
    "plot.display()"
   ]
  },
  {
   "cell_type": "code",
   "execution_count": 16,
   "metadata": {},
   "outputs": [
    {
     "data": {
      "application/vnd.jupyter.widget-view+json": {
       "model_id": "63acd3aa1fec424490fe034f66c9fb29",
       "version_major": 2,
       "version_minor": 0
      },
      "text/plain": [
       "Output()"
      ]
     },
     "metadata": {},
     "output_type": "display_data"
    }
   ],
   "source": [
    "k3d_pcd"
   ]
  },
  {
   "cell_type": "code",
   "execution_count": 17,
   "metadata": {},
   "outputs": [],
   "source": [
    "o3d_pcd = o3d.geometry.PointCloud(o3d.utility.Vector3dVector(pcd))"
   ]
  },
  {
   "cell_type": "code",
   "execution_count": 18,
   "metadata": {},
   "outputs": [
    {
     "name": "stdout",
     "output_type": "stream",
     "text": [
      "\u001b[1;33m[Open3D WARNING] Write PLY failed: unable to open file: examples/011_pcd.ply\u001b[0;m\n"
     ]
    },
    {
     "data": {
      "text/plain": [
       "False"
      ]
     },
     "execution_count": 18,
     "metadata": {},
     "output_type": "execute_result"
    }
   ],
   "source": [
    "o3d.io.write_point_cloud('examples/011_pcd.ply', o3d_pcd)"
   ]
  },
  {
   "cell_type": "code",
   "execution_count": 19,
   "metadata": {},
   "outputs": [
    {
     "data": {
      "text/plain": [
       "<matplotlib.image.AxesImage at 0x7fbc4118aad0>"
      ]
     },
     "execution_count": 19,
     "metadata": {},
     "output_type": "execute_result"
    },
    {
     "data": {
      "image/png": "[encoded data removed]",
      "text/plain": [
       "<Figure size 432x288 with 1 Axes>"
      ]
     },
     "metadata": {
      "needs_background": "light"
     },
     "output_type": "display_data"
    }
   ],
   "source": [
    "plt.imshow(data[:, :, 250])"
   ]
  },
  {
   "cell_type": "code",
   "execution_count": 20,
   "metadata": {},
   "outputs": [
    {
     "data": {
      "text/plain": [
       "<matplotlib.image.AxesImage at 0x7fbbd19f5c10>"
      ]
     },
     "execution_count": 20,
     "metadata": {},
     "output_type": "execute_result"
    },
    {
     "data": {
      "image/png": "[encoded data removed]",
      "text/plain": [
       "<Figure size 432x288 with 1 Axes>"
      ]
     },
     "metadata": {
      "needs_background": "light"
     },
     "output_type": "display_data"
    }
   ],
   "source": [
    "tmp = data[:, :, 250]\n",
    "plt.imshow(zoom(tmp, (0.5, 0.5)))"
   ]
  },
  {
   "cell_type": "code",
   "execution_count": 21,
   "metadata": {},
   "outputs": [
    {
     "name": "stdout",
     "output_type": "stream",
     "text": [
      "CPU times: user 21.7 ms, sys: 2.18 ms, total: 23.9 ms\n",
      "Wall time: 22.2 ms\n"
     ]
    },
    {
     "data": {
      "text/plain": [
       "array([[0, 0, 0, ..., 0, 0, 0],\n",
       "       [0, 0, 0, ..., 0, 0, 0],\n",
       "       [0, 0, 0, ..., 0, 0, 0],\n",
       "       ...,\n",
       "       [0, 0, 0, ..., 0, 0, 0],\n",
       "       [0, 0, 0, ..., 0, 0, 0],\n",
       "       [0, 0, 0, ..., 0, 0, 0]], dtype=int32)"
      ]
     },
     "execution_count": 21,
     "metadata": {},
     "output_type": "execute_result"
    }
   ],
   "source": [
    "%time zoom(tmp, (0.5, 0.5))"
   ]
  },
  {
   "cell_type": "code",
   "execution_count": 22,
   "metadata": {},
   "outputs": [
    {
     "name": "stdout",
     "output_type": "stream",
     "text": [
      "CPU times: user 15.1 ms, sys: 5.2 ms, total: 20.3 ms\n",
      "Wall time: 19.8 ms\n"
     ]
    },
    {
     "data": {
      "text/plain": [
       "array([[2.32830644e-10, 2.32830644e-10, 2.32830644e-10, ...,\n",
       "        2.32830644e-10, 2.32830644e-10, 2.32830644e-10],\n",
       "       [2.32830644e-10, 2.32830644e-10, 2.32830644e-10, ...,\n",
       "        2.32830644e-10, 2.32830644e-10, 2.32830644e-10],\n",
       "       [2.32830644e-10, 2.32830644e-10, 2.32830644e-10, ...,\n",
       "        2.32830644e-10, 2.32830644e-10, 2.32830644e-10],\n",
       "       ...,\n",
       "       [2.32830644e-10, 2.32830644e-10, 2.32830644e-10, ...,\n",
       "        2.32830644e-10, 2.32830644e-10, 2.32830644e-10],\n",
       "       [2.32830644e-10, 2.32830644e-10, 2.32830644e-10, ...,\n",
       "        2.32830644e-10, 2.32830644e-10, 2.32830644e-10],\n",
       "       [2.32830644e-10, 2.32830644e-10, 2.32830644e-10, ...,\n",
       "        2.32830644e-10, 2.32830644e-10, 2.32830644e-10]])"
      ]
     },
     "execution_count": 22,
     "metadata": {},
     "output_type": "execute_result"
    }
   ],
   "source": [
    "%time tr.rescale(tmp, (0.5, 0.5))"
   ]
  },
  {
   "cell_type": "code",
   "execution_count": 23,
   "metadata": {},
   "outputs": [
    {
     "data": {
      "text/plain": [
       "(512, 512, 331)"
      ]
     },
     "execution_count": 23,
     "metadata": {},
     "output_type": "execute_result"
    }
   ],
   "source": [
    "data.shape"
   ]
  },
  {
   "cell_type": "code",
   "execution_count": 24,
   "metadata": {},
   "outputs": [
    {
     "name": "stdout",
     "output_type": "stream",
     "text": [
      "CPU times: user 1.37 s, sys: 212 ms, total: 1.58 s\n",
      "Wall time: 1.64 s\n"
     ]
    },
    {
     "data": {
      "text/plain": [
       "(512, 331)"
      ]
     },
     "execution_count": 24,
     "metadata": {},
     "output_type": "execute_result"
    }
   ],
   "source": [
    "%time np.take(data, 20, axis=1).shape"
   ]
  },
  {
   "cell_type": "code",
   "execution_count": 25,
   "metadata": {},
   "outputs": [
    {
     "name": "stdout",
     "output_type": "stream",
     "text": [
      "CPU times: user 8 µs, sys: 0 ns, total: 8 µs\n",
      "Wall time: 11.9 µs\n"
     ]
    },
    {
     "data": {
      "text/plain": [
       "array([[0, 0, 0, ..., 0, 0, 0],\n",
       "       [0, 0, 0, ..., 0, 0, 0],\n",
       "       [0, 0, 0, ..., 0, 0, 0],\n",
       "       ...,\n",
       "       [0, 0, 0, ..., 0, 0, 0],\n",
       "       [0, 0, 0, ..., 0, 0, 0],\n",
       "       [0, 0, 0, ..., 0, 0, 0]], dtype=int32)"
      ]
     },
     "execution_count": 25,
     "metadata": {},
     "output_type": "execute_result"
    }
   ],
   "source": [
    "%time data[:, 20, :]"
   ]
  },
  {
   "cell_type": "code",
   "execution_count": 26,
   "metadata": {},
   "outputs": [
    {
     "name": "stdout",
     "output_type": "stream",
     "text": [
      "CPU times: user 1.06 ms, sys: 1.84 ms, total: 2.9 ms\n",
      "Wall time: 2.95 ms\n"
     ]
    },
    {
     "name": "stderr",
     "output_type": "stream",
     "text": [
      "/Users/mariadonskova/opt/anaconda3/lib/python3.7/site-packages/ipykernel_launcher.py:1: FutureWarning: Using a non-tuple sequence for multidimensional indexing is deprecated; use `arr[tuple(seq)]` instead of `arr[seq]`. In the future this will be interpreted as an array index, `arr[np.array(seq)]`, which will result either in an error or a different result.\n",
      "  \"\"\"Entry point for launching an IPython kernel.\n"
     ]
    },
    {
     "data": {
      "text/plain": [
       "(512, 331)"
      ]
     },
     "execution_count": 26,
     "metadata": {},
     "output_type": "execute_result"
    }
   ],
   "source": [
    "%time slc = [slice(None)] * 3; slc[1] = slice(19, 20); data[slc].squeeze().shape"
   ]
  },
  {
   "cell_type": "code",
   "execution_count": null,
   "metadata": {},
   "outputs": [],
   "source": []
  }
 ],
 "metadata": {
  "kernelspec": {
   "display_name": "Python 3",
   "language": "python",
   "name": "python3"
  },
  "language_info": {
   "codemirror_mode": {
    "name": "ipython",
    "version": 3
   },
   "file_extension": ".py",
   "mimetype": "text/x-python",
   "name": "python",
   "nbconvert_exporter": "python",
   "pygments_lexer": "ipython3",
   "version": "3.7.4"
  }
 },
 "nbformat": 4,
 "nbformat_minor": 5
}
