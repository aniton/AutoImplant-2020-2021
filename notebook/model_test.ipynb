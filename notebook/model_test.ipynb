{
 "cells": [
  {
   "cell_type": "code",
   "execution_count": 1,
   "id": "swiss-somewhere",
   "metadata": {},
   "outputs": [],
   "source": [
    "import sys\n",
    "sys.path.append('/Users/aleksandr/Desktop/biomed/project/AutoImplant-2020-2021/')"
   ]
  },
  {
   "cell_type": "code",
   "execution_count": 2,
   "id": "breeding-worst",
   "metadata": {},
   "outputs": [],
   "source": [
    "import torch\n",
    "import cv2\n",
    "# import k3d\n",
    "import scipy.ndimage as spi\n",
    "import nibabel as nib\n",
    "import numpy as np\n",
    "\n",
    "from autoimplant.model.unet3d import UNet3d_thin"
   ]
  },
  {
   "cell_type": "code",
   "execution_count": 3,
   "id": "exotic-terminology",
   "metadata": {},
   "outputs": [],
   "source": [
    "model = UNet3d_thin()"
   ]
  },
  {
   "cell_type": "code",
   "execution_count": 4,
   "id": "cardiovascular-manner",
   "metadata": {},
   "outputs": [],
   "source": [
    "_ = model.eval()"
   ]
  },
  {
   "cell_type": "code",
   "execution_count": 5,
   "id": "substantial-excerpt",
   "metadata": {},
   "outputs": [],
   "source": [
    "example = nib.load('../../training_set2020/defective_skull/000.nii.gz')\n",
    "data = example.get_fdata().astype(np.int32)"
   ]
  },
  {
   "cell_type": "code",
   "execution_count": 6,
   "id": "cardiac-remains",
   "metadata": {},
   "outputs": [
    {
     "data": {
      "text/plain": [
       "(512, 512, 237)"
      ]
     },
     "execution_count": 6,
     "metadata": {},
     "output_type": "execute_result"
    }
   ],
   "source": [
    "data.shape"
   ]
  },
  {
   "cell_type": "code",
   "execution_count": 7,
   "id": "infrared-climb",
   "metadata": {},
   "outputs": [],
   "source": [
    "small = np.resize(data, (128, 128, 128))"
   ]
  },
  {
   "cell_type": "code",
   "execution_count": 8,
   "id": "deef6a5f-cd3f-4ae7-b7c8-16ce1e0c6fa5",
   "metadata": {},
   "outputs": [
    {
     "data": {
      "text/plain": [
       "((512, 512, 237), (128, 128, 128))"
      ]
     },
     "execution_count": 8,
     "metadata": {},
     "output_type": "execute_result"
    }
   ],
   "source": [
    "data.shape, small.shape"
   ]
  },
  {
   "cell_type": "code",
   "execution_count": 9,
   "id": "varied-design",
   "metadata": {},
   "outputs": [
    {
     "data": {
      "text/plain": [
       "torch.Size([1, 1, 128, 128, 128])"
      ]
     },
     "execution_count": 9,
     "metadata": {},
     "output_type": "execute_result"
    }
   ],
   "source": [
    "small_tensor = torch.tensor(small, dtype=torch.float32)\n",
    "small_tensor = small_tensor[None, None, ...]\n",
    "small_tensor.size()"
   ]
  },
  {
   "cell_type": "code",
   "execution_count": 10,
   "id": "senior-postage",
   "metadata": {},
   "outputs": [
    {
     "data": {
      "text/plain": [
       "torch.float32"
      ]
     },
     "execution_count": 10,
     "metadata": {},
     "output_type": "execute_result"
    }
   ],
   "source": [
    "small_tensor.dtype"
   ]
  },
  {
   "cell_type": "code",
   "execution_count": 11,
   "id": "introductory-destruction",
   "metadata": {},
   "outputs": [
    {
     "name": "stderr",
     "output_type": "stream",
     "text": [
      "/Users/aleksandr/miniconda/lib/python3.8/site-packages/torch/nn/functional.py:3454: UserWarning: Default upsampling behavior when mode=trilinear is changed to align_corners=False since 0.4.0. Please specify align_corners=True if the old behavior is desired. See the documentation of nn.Upsample for details.\n",
      "  warnings.warn(\n"
     ]
    }
   ],
   "source": [
    "res = model.forward(small_tensor)"
   ]
  },
  {
   "cell_type": "code",
   "execution_count": 12,
   "id": "eb91606e-cb25-44f0-b439-400c9547dd3c",
   "metadata": {},
   "outputs": [
    {
     "data": {
      "text/plain": [
       "torch.Size([1, 1, 128, 128, 128])"
      ]
     },
     "execution_count": 12,
     "metadata": {},
     "output_type": "execute_result"
    }
   ],
   "source": [
    "res.shape"
   ]
  },
  {
   "cell_type": "code",
   "execution_count": 14,
   "id": "c698b03b-d8dc-4876-b174-601131e282b9",
   "metadata": {},
   "outputs": [
    {
     "data": {
      "text/plain": [
       "(tensor(0.5231, grad_fn=<MinBackward1>),\n",
       " tensor(0.5514, grad_fn=<MaxBackward1>))"
      ]
     },
     "execution_count": 14,
     "metadata": {},
     "output_type": "execute_result"
    }
   ],
   "source": [
    "res.min(), res.max()"
   ]
  },
  {
   "cell_type": "code",
   "execution_count": null,
   "id": "hydraulic-sucking",
   "metadata": {
    "scrolled": true
   },
   "outputs": [],
   "source": [
    "print(small.shape)\n",
    "k3d.voxels(small)"
   ]
  }
 ],
 "metadata": {
  "kernelspec": {
   "display_name": "Python 3",
   "language": "python",
   "name": "python3"
  },
  "language_info": {
   "codemirror_mode": {
    "name": "ipython",
    "version": 3
   },
   "file_extension": ".py",
   "mimetype": "text/x-python",
   "name": "python",
   "nbconvert_exporter": "python",
   "pygments_lexer": "ipython3",
   "version": "3.8.3"
  }
 },
 "nbformat": 4,
 "nbformat_minor": 5
}
