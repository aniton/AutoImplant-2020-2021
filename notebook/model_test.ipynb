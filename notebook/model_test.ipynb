{
 "cells": [
  {
   "cell_type": "code",
   "execution_count": 1,
   "id": "swiss-somewhere",
   "metadata": {},
   "outputs": [],
   "source": [
    "import sys\n",
    "sys.path.append('/Users/aleksandr/Desktop/biomed/project/AutoImplant-2020-2021/')"
   ]
  },
  {
   "cell_type": "code",
   "execution_count": 2,
   "id": "breeding-worst",
   "metadata": {},
   "outputs": [],
   "source": [
    "import torch\n",
    "import cv2\n",
    "import k3d\n",
    "import scipy.ndimage as spi\n",
    "import nibabel as nib\n",
    "import numpy as np\n",
    "\n",
    "from autoimplant.models.saunet3d import SAUnet3d"
   ]
  },
  {
   "cell_type": "code",
   "execution_count": 3,
   "id": "exotic-terminology",
   "metadata": {},
   "outputs": [
    {
     "name": "stderr",
     "output_type": "stream",
     "text": [
      "/Users/aleksandr/Desktop/biomed/project/AutoImplant-2020-2021/autoimplant/models/resnets_3d/models/densenet.py:132: UserWarning: nn.init.kaiming_normal is now deprecated in favor of nn.init.kaiming_normal_.\n",
      "  m.weight = nn.init.kaiming_normal(m.weight, mode='fan_out')\n"
     ]
    }
   ],
   "source": [
    "model = SAUnet3d()"
   ]
  },
  {
   "cell_type": "code",
   "execution_count": 4,
   "id": "cardiovascular-manner",
   "metadata": {},
   "outputs": [],
   "source": [
    "_ = model.eval()"
   ]
  },
  {
   "cell_type": "code",
   "execution_count": 5,
   "id": "substantial-excerpt",
   "metadata": {},
   "outputs": [],
   "source": [
    "example = nib.load('../../training_set2020/defective_skull/000.nii.gz')\n",
    "data = example.get_fdata().astype(np.int32)"
   ]
  },
  {
   "cell_type": "code",
   "execution_count": 6,
   "id": "cardiac-remains",
   "metadata": {},
   "outputs": [
    {
     "data": {
      "text/plain": [
       "(512, 512, 237)"
      ]
     },
     "execution_count": 6,
     "metadata": {},
     "output_type": "execute_result"
    }
   ],
   "source": [
    "data.shape"
   ]
  },
  {
   "cell_type": "code",
   "execution_count": 7,
   "id": "infrared-climb",
   "metadata": {},
   "outputs": [],
   "source": [
    "small = spi.zoom(data, (1/2, 1/2, 1))"
   ]
  },
  {
   "cell_type": "code",
   "execution_count": 8,
   "id": "varied-design",
   "metadata": {},
   "outputs": [
    {
     "data": {
      "text/plain": [
       "torch.Size([1, 1, 256, 256, 237])"
      ]
     },
     "execution_count": 8,
     "metadata": {},
     "output_type": "execute_result"
    }
   ],
   "source": [
    "small_tensor = torch.tensor(small, dtype=torch.float32)\n",
    "small_tensor = small_tensor[None, None, ...]\n",
    "small_tensor.size()"
   ]
  },
  {
   "cell_type": "code",
   "execution_count": 9,
   "id": "senior-postage",
   "metadata": {},
   "outputs": [
    {
     "data": {
      "text/plain": [
       "torch.float32"
      ]
     },
     "execution_count": 9,
     "metadata": {},
     "output_type": "execute_result"
    }
   ],
   "source": [
    "small_tensor.dtype"
   ]
  },
  {
   "cell_type": "code",
   "execution_count": null,
   "id": "introductory-destruction",
   "metadata": {},
   "outputs": [
    {
     "name": "stdout",
     "output_type": "stream",
     "text": [
      "> \u001b[0;32m/Users/aleksandr/Desktop/biomed/project/AutoImplant-2020-2021/autoimplant/models/saunet3d.py\u001b[0m(127)\u001b[0;36mforward\u001b[0;34m()\u001b[0m\n",
      "\u001b[0;32m    126 \u001b[0;31m        \u001b[0;32mimport\u001b[0m \u001b[0mipdb\u001b[0m\u001b[0;34m;\u001b[0m \u001b[0mipdb\u001b[0m\u001b[0;34m.\u001b[0m\u001b[0mset_trace\u001b[0m\u001b[0;34m(\u001b[0m\u001b[0;34m)\u001b[0m\u001b[0;34m\u001b[0m\u001b[0;34m\u001b[0m\u001b[0m\n",
      "\u001b[0m\u001b[0;32m--> 127 \u001b[0;31m        ss = F.interpolate(self.d0(conv2), x_size[2:],\n",
      "\u001b[0m\u001b[0;32m    128 \u001b[0;31m                            mode='trilinear', align_corners=True)\n",
      "\u001b[0m\n",
      "ipdb> n\n",
      "> \u001b[0;32m/Users/aleksandr/Desktop/biomed/project/AutoImplant-2020-2021/autoimplant/models/saunet3d.py\u001b[0m(128)\u001b[0;36mforward\u001b[0;34m()\u001b[0m\n",
      "\u001b[0;32m    127 \u001b[0;31m        ss = F.interpolate(self.d0(conv2), x_size[2:],\n",
      "\u001b[0m\u001b[0;32m--> 128 \u001b[0;31m                            mode='trilinear', align_corners=True)\n",
      "\u001b[0m\u001b[0;32m    129 \u001b[0;31m        \u001b[0mss\u001b[0m \u001b[0;34m=\u001b[0m \u001b[0mself\u001b[0m\u001b[0;34m.\u001b[0m\u001b[0mres1\u001b[0m\u001b[0;34m(\u001b[0m\u001b[0mss\u001b[0m\u001b[0;34m)\u001b[0m\u001b[0;34m\u001b[0m\u001b[0;34m\u001b[0m\u001b[0m\n",
      "\u001b[0m\n",
      "ipdb> n\n",
      "> \u001b[0;32m/Users/aleksandr/Desktop/biomed/project/AutoImplant-2020-2021/autoimplant/models/saunet3d.py\u001b[0m(127)\u001b[0;36mforward\u001b[0;34m()\u001b[0m\n",
      "\u001b[0;32m    126 \u001b[0;31m        \u001b[0;32mimport\u001b[0m \u001b[0mipdb\u001b[0m\u001b[0;34m;\u001b[0m \u001b[0mipdb\u001b[0m\u001b[0;34m.\u001b[0m\u001b[0mset_trace\u001b[0m\u001b[0;34m(\u001b[0m\u001b[0;34m)\u001b[0m\u001b[0;34m\u001b[0m\u001b[0;34m\u001b[0m\u001b[0m\n",
      "\u001b[0m\u001b[0;32m--> 127 \u001b[0;31m        ss = F.interpolate(self.d0(conv2), x_size[2:],\n",
      "\u001b[0m\u001b[0;32m    128 \u001b[0;31m                            mode='trilinear', align_corners=True)\n",
      "\u001b[0m\n",
      "ipdb> n\n",
      "> \u001b[0;32m/Users/aleksandr/Desktop/biomed/project/AutoImplant-2020-2021/autoimplant/models/saunet3d.py\u001b[0m(129)\u001b[0;36mforward\u001b[0;34m()\u001b[0m\n",
      "\u001b[0;32m    128 \u001b[0;31m                            mode='trilinear', align_corners=True)\n",
      "\u001b[0m\u001b[0;32m--> 129 \u001b[0;31m        \u001b[0mss\u001b[0m \u001b[0;34m=\u001b[0m \u001b[0mself\u001b[0m\u001b[0;34m.\u001b[0m\u001b[0mres1\u001b[0m\u001b[0;34m(\u001b[0m\u001b[0mss\u001b[0m\u001b[0;34m)\u001b[0m\u001b[0;34m\u001b[0m\u001b[0;34m\u001b[0m\u001b[0m\n",
      "\u001b[0m\u001b[0;32m    130 \u001b[0;31m        c3 = F.interpolate(self.c3(conv3), x_size[2:],\n",
      "\u001b[0m\n",
      "ipdb> ss.shape\n",
      "torch.Size([1, 64, 256, 256, 237])\n",
      "ipdb> n\n",
      "> \u001b[0;32m/Users/aleksandr/Desktop/biomed/project/AutoImplant-2020-2021/autoimplant/models/saunet3d.py\u001b[0m(130)\u001b[0;36mforward\u001b[0;34m()\u001b[0m\n",
      "\u001b[0;32m    129 \u001b[0;31m        \u001b[0mss\u001b[0m \u001b[0;34m=\u001b[0m \u001b[0mself\u001b[0m\u001b[0;34m.\u001b[0m\u001b[0mres1\u001b[0m\u001b[0;34m(\u001b[0m\u001b[0mss\u001b[0m\u001b[0;34m)\u001b[0m\u001b[0;34m\u001b[0m\u001b[0;34m\u001b[0m\u001b[0m\n",
      "\u001b[0m\u001b[0;32m--> 130 \u001b[0;31m        c3 = F.interpolate(self.c3(conv3), x_size[2:],\n",
      "\u001b[0m\u001b[0;32m    131 \u001b[0;31m                            mode='trilinear', align_corners=True)\n",
      "\u001b[0m\n",
      "ipdb> n\n",
      "> \u001b[0;32m/Users/aleksandr/Desktop/biomed/project/AutoImplant-2020-2021/autoimplant/models/saunet3d.py\u001b[0m(131)\u001b[0;36mforward\u001b[0;34m()\u001b[0m\n",
      "\u001b[0;32m    130 \u001b[0;31m        c3 = F.interpolate(self.c3(conv3), x_size[2:],\n",
      "\u001b[0m\u001b[0;32m--> 131 \u001b[0;31m                            mode='trilinear', align_corners=True)\n",
      "\u001b[0m\u001b[0;32m    132 \u001b[0;31m        \u001b[0mss\u001b[0m \u001b[0;34m=\u001b[0m \u001b[0mself\u001b[0m\u001b[0;34m.\u001b[0m\u001b[0md1\u001b[0m\u001b[0;34m(\u001b[0m\u001b[0mss\u001b[0m\u001b[0;34m)\u001b[0m\u001b[0;34m\u001b[0m\u001b[0;34m\u001b[0m\u001b[0m\n",
      "\u001b[0m\n",
      "ipdb> n\n",
      "> \u001b[0;32m/Users/aleksandr/Desktop/biomed/project/AutoImplant-2020-2021/autoimplant/models/saunet3d.py\u001b[0m(130)\u001b[0;36mforward\u001b[0;34m()\u001b[0m\n",
      "\u001b[0;32m    129 \u001b[0;31m        \u001b[0mss\u001b[0m \u001b[0;34m=\u001b[0m \u001b[0mself\u001b[0m\u001b[0;34m.\u001b[0m\u001b[0mres1\u001b[0m\u001b[0;34m(\u001b[0m\u001b[0mss\u001b[0m\u001b[0;34m)\u001b[0m\u001b[0;34m\u001b[0m\u001b[0;34m\u001b[0m\u001b[0m\n",
      "\u001b[0m\u001b[0;32m--> 130 \u001b[0;31m        c3 = F.interpolate(self.c3(conv3), x_size[2:],\n",
      "\u001b[0m\u001b[0;32m    131 \u001b[0;31m                            mode='trilinear', align_corners=True)\n",
      "\u001b[0m\n",
      "ipdb> n\n",
      "> \u001b[0;32m/Users/aleksandr/Desktop/biomed/project/AutoImplant-2020-2021/autoimplant/models/saunet3d.py\u001b[0m(132)\u001b[0;36mforward\u001b[0;34m()\u001b[0m\n",
      "\u001b[0;32m    131 \u001b[0;31m                            mode='trilinear', align_corners=True)\n",
      "\u001b[0m\u001b[0;32m--> 132 \u001b[0;31m        \u001b[0mss\u001b[0m \u001b[0;34m=\u001b[0m \u001b[0mself\u001b[0m\u001b[0;34m.\u001b[0m\u001b[0md1\u001b[0m\u001b[0;34m(\u001b[0m\u001b[0mss\u001b[0m\u001b[0;34m)\u001b[0m\u001b[0;34m\u001b[0m\u001b[0;34m\u001b[0m\u001b[0m\n",
      "\u001b[0m\u001b[0;32m    133 \u001b[0;31m        \u001b[0mss\u001b[0m \u001b[0;34m=\u001b[0m \u001b[0mself\u001b[0m\u001b[0;34m.\u001b[0m\u001b[0mgate1\u001b[0m\u001b[0;34m(\u001b[0m\u001b[0mss\u001b[0m\u001b[0;34m,\u001b[0m \u001b[0mc3\u001b[0m\u001b[0;34m)\u001b[0m\u001b[0;34m\u001b[0m\u001b[0;34m\u001b[0m\u001b[0m\n",
      "\u001b[0m\n",
      "ipdb> ss.shape\n",
      "torch.Size([1, 64, 256, 256, 237])\n",
      "ipdb> c3.shape\n",
      "torch.Size([1, 1, 256, 256, 237])\n",
      "ipdb> n\n",
      "> \u001b[0;32m/Users/aleksandr/Desktop/biomed/project/AutoImplant-2020-2021/autoimplant/models/saunet3d.py\u001b[0m(133)\u001b[0;36mforward\u001b[0;34m()\u001b[0m\n",
      "\u001b[0;32m    132 \u001b[0;31m        \u001b[0mss\u001b[0m \u001b[0;34m=\u001b[0m \u001b[0mself\u001b[0m\u001b[0;34m.\u001b[0m\u001b[0md1\u001b[0m\u001b[0;34m(\u001b[0m\u001b[0mss\u001b[0m\u001b[0;34m)\u001b[0m\u001b[0;34m\u001b[0m\u001b[0;34m\u001b[0m\u001b[0m\n",
      "\u001b[0m\u001b[0;32m--> 133 \u001b[0;31m        \u001b[0mss\u001b[0m \u001b[0;34m=\u001b[0m \u001b[0mself\u001b[0m\u001b[0;34m.\u001b[0m\u001b[0mgate1\u001b[0m\u001b[0;34m(\u001b[0m\u001b[0mss\u001b[0m\u001b[0;34m,\u001b[0m \u001b[0mc3\u001b[0m\u001b[0;34m)\u001b[0m\u001b[0;34m\u001b[0m\u001b[0;34m\u001b[0m\u001b[0m\n",
      "\u001b[0m\u001b[0;32m    134 \u001b[0;31m        \u001b[0mss\u001b[0m \u001b[0;34m=\u001b[0m \u001b[0mself\u001b[0m\u001b[0;34m.\u001b[0m\u001b[0mres2\u001b[0m\u001b[0;34m(\u001b[0m\u001b[0mss\u001b[0m\u001b[0;34m)\u001b[0m\u001b[0;34m\u001b[0m\u001b[0;34m\u001b[0m\u001b[0m\n",
      "\u001b[0m\n",
      "ipdb> ss.shape\n",
      "torch.Size([1, 32, 256, 256, 237])\n",
      "ipdb> n\n"
     ]
    }
   ],
   "source": [
    "res = model.forward(small_tensor)"
   ]
  },
  {
   "cell_type": "code",
   "execution_count": null,
   "id": "laughing-bathroom",
   "metadata": {},
   "outputs": [],
   "source": []
  },
  {
   "cell_type": "code",
   "execution_count": null,
   "id": "hydraulic-sucking",
   "metadata": {
    "scrolled": true
   },
   "outputs": [],
   "source": [
    "print(small.shape)\n",
    "k3d.voxels(small)"
   ]
  }
 ],
 "metadata": {
  "kernelspec": {
   "display_name": "Python 3",
   "language": "python",
   "name": "python3"
  },
  "language_info": {
   "codemirror_mode": {
    "name": "ipython",
    "version": 3
   },
   "file_extension": ".py",
   "mimetype": "text/x-python",
   "name": "python",
   "nbconvert_exporter": "python",
   "pygments_lexer": "ipython3",
   "version": "3.8.6"
  }
 },
 "nbformat": 4,
 "nbformat_minor": 5
}
